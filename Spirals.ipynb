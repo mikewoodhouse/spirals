{
 "cells": [
  {
   "cell_type": "code",
   "execution_count": 1,
   "metadata": {
    "ExecuteTime": {
     "end_time": "2021-07-15T09:58:59.059049Z",
     "start_time": "2021-07-15T09:58:58.275343Z"
    }
   },
   "outputs": [],
   "source": [
    "from ipycanvas import Canvas, hold_canvas\n",
    "from collections import deque\n",
    "import math"
   ]
  },
  {
   "cell_type": "code",
   "execution_count": 2,
   "metadata": {
    "ExecuteTime": {
     "end_time": "2021-07-15T09:58:59.944354Z",
     "start_time": "2021-07-15T09:58:59.924366Z"
    }
   },
   "outputs": [],
   "source": [
    "class Point:\n",
    "    def __init__(self, x, y):\n",
    "        self.x, self.y = x, y\n",
    "    @property\n",
    "    def xy(self):\n",
    "        return self.x, self.y\n",
    "    def distance_to(self, other):\n",
    "        return math.sqrt((self.x - other.x) * (self.x - other.x) + (self.y - other.y) * (self.y - other.y))\n",
    "    def towards(self, other, step):\n",
    "        total_distance = self.distance_to(other)\n",
    "        ratio = step / total_distance\n",
    "        new_x = self.x + ratio * (other.x - self.x)\n",
    "        new_y = self.y + ratio * (other.y - self.y)\n",
    "        return Point(new_x, new_y)\n",
    "    def __str__(self):\n",
    "        return f'({round(self.x, 3)}, {round(self.y, 3)})'\n",
    "    def __repr__(self):\n",
    "        return f'{self}'"
   ]
  },
  {
   "cell_type": "code",
   "execution_count": 3,
   "metadata": {
    "ExecuteTime": {
     "end_time": "2021-07-15T09:59:01.154705Z",
     "start_time": "2021-07-15T09:59:01.138704Z"
    }
   },
   "outputs": [],
   "source": [
    "class Rect:\n",
    "    def __init__(self, x, y, width, height, direction=True):\n",
    "        x2 = x + width - 1\n",
    "        y2 = y + height - 1\n",
    "        if direction:\n",
    "            self.points = deque([Point(x, y), Point(x, y2), Point(x2, y2), Point(x2, y)])\n",
    "        else:\n",
    "            self.points = deque([Point(x, y), Point(x2, y), Point(x2, y2), Point(x, y2)])"
   ]
  },
  {
   "cell_type": "code",
   "execution_count": 4,
   "metadata": {
    "ExecuteTime": {
     "end_time": "2021-07-15T09:59:02.205300Z",
     "start_time": "2021-07-15T09:59:02.197301Z"
    }
   },
   "outputs": [],
   "source": [
    "class Poly:\n",
    "    def __init__(self, points, direction=True):\n",
    "        self.points = deque(points)"
   ]
  },
  {
   "cell_type": "code",
   "execution_count": 5,
   "metadata": {
    "ExecuteTime": {
     "end_time": "2021-07-15T09:59:03.507993Z",
     "start_time": "2021-07-15T09:59:03.501991Z"
    }
   },
   "outputs": [],
   "source": [
    "def draw(shapes, start_step, width, height, line_width=1.0):\n",
    "    canvas = Canvas(width=width, height=height)\n",
    "    canvas.line_width = line_width\n",
    "    with hold_canvas(canvas):\n",
    "        for shape in shapes:\n",
    "            points = shape.points\n",
    "            # draw shape\n",
    "            canvas.begin_path()\n",
    "            canvas.move_to(*points[0].xy)\n",
    "            for i in range(len(points)):\n",
    "                points.rotate()\n",
    "                canvas.line_to(*points[0].xy)\n",
    "            canvas.stroke()\n",
    "            # start spiral\n",
    "            canvas.begin_path()\n",
    "            canvas.move_to(*points[0].xy)\n",
    "            step = start_step\n",
    "            while step > 2:\n",
    "                new_pt = points[1].towards(points[2], step)\n",
    "                if points[0].distance_to(new_pt) < step:\n",
    "                    step -= 2\n",
    "                canvas.line_to(*new_pt.xy)\n",
    "                points[1] = new_pt\n",
    "                points.rotate(-1)\n",
    "            canvas.stroke()\n",
    "    return canvas"
   ]
  },
  {
   "cell_type": "code",
   "execution_count": 6,
   "metadata": {
    "ExecuteTime": {
     "end_time": "2021-07-15T09:59:04.703345Z",
     "start_time": "2021-07-15T09:59:04.683343Z"
    }
   },
   "outputs": [
    {
     "data": {
      "application/vnd.jupyter.widget-view+json": {
       "model_id": "7326403b6e4d4f65aecfb4905050f862",
       "version_major": 2,
       "version_minor": 0
      },
      "text/plain": [
       "Canvas(height=300, width=300)"
      ]
     },
     "metadata": {},
     "output_type": "display_data"
    }
   ],
   "source": [
    "rects = [\n",
    "    Rect(0, 0, 300, 300, True),\n",
    "]\n",
    "\n",
    "draw(rects, 20, 300, 300)"
   ]
  },
  {
   "cell_type": "code",
   "execution_count": 7,
   "metadata": {
    "ExecuteTime": {
     "end_time": "2021-07-15T09:59:08.636266Z",
     "start_time": "2021-07-15T09:59:08.613265Z"
    }
   },
   "outputs": [
    {
     "data": {
      "application/vnd.jupyter.widget-view+json": {
       "model_id": "a222ba32f50c4ffd9ded2a70af81f082",
       "version_major": 2,
       "version_minor": 0
      },
      "text/plain": [
       "Canvas(height=600, width=600)"
      ]
     },
     "metadata": {},
     "output_type": "display_data"
    }
   ],
   "source": [
    "rects = [\n",
    "    Rect(0, 0, 300, 300, True),\n",
    "    Rect(300, 300, 300, 300, True),\n",
    "    Rect(300, 0, 300, 300, False),\n",
    "    Rect(0, 300, 300, 300, False),\n",
    "]\n",
    "\n",
    "draw(rects, 15, 600, 600)\n"
   ]
  },
  {
   "cell_type": "code",
   "execution_count": 8,
   "metadata": {
    "ExecuteTime": {
     "end_time": "2021-07-15T09:59:09.631246Z",
     "start_time": "2021-07-15T09:59:09.563246Z"
    }
   },
   "outputs": [
    {
     "data": {
      "application/vnd.jupyter.widget-view+json": {
       "model_id": "aff46854bad24e299b63593e7fc83687",
       "version_major": 2,
       "version_minor": 0
      },
      "text/plain": [
       "Canvas(height=600, width=600)"
      ]
     },
     "metadata": {},
     "output_type": "display_data"
    }
   ],
   "source": [
    "rects = [\n",
    "    Rect(x * 100, y * 100, 100, 100)\n",
    "    for x in range(6)\n",
    "    for y in range(6)    \n",
    "]\n",
    "\n",
    "draw(rects, 8, 600, 600, 2.0)"
   ]
  },
  {
   "cell_type": "code",
   "execution_count": 9,
   "metadata": {
    "ExecuteTime": {
     "end_time": "2021-07-15T09:59:10.728316Z",
     "start_time": "2021-07-15T09:59:10.436313Z"
    }
   },
   "outputs": [
    {
     "data": {
      "application/vnd.jupyter.widget-view+json": {
       "model_id": "1f17fa177f8049c7bf1b6e05c6f68194",
       "version_major": 2,
       "version_minor": 0
      },
      "text/plain": [
       "Canvas(height=640, width=640)"
      ]
     },
     "metadata": {},
     "output_type": "display_data"
    }
   ],
   "source": [
    "side = 40\n",
    "squares = 16\n",
    "\n",
    "rects = [\n",
    "    Rect(x * side, y * side, side, side, x % 2 - y % 2)\n",
    "    for x in range(squares)\n",
    "    for y in range(squares)    \n",
    "]\n",
    "\n",
    "draw(rects, 3, side * squares, side * squares)"
   ]
  },
  {
   "cell_type": "code",
   "execution_count": 10,
   "metadata": {
    "ExecuteTime": {
     "end_time": "2021-07-15T09:59:11.827268Z",
     "start_time": "2021-07-15T09:59:11.771267Z"
    }
   },
   "outputs": [
    {
     "data": {
      "application/vnd.jupyter.widget-view+json": {
       "model_id": "0ed79fb115fd418683e166ec278fe23c",
       "version_major": 2,
       "version_minor": 0
      },
      "text/plain": [
       "Canvas(height=600, width=600)"
      ]
     },
     "metadata": {},
     "output_type": "display_data"
    }
   ],
   "source": [
    "rects = [\n",
    "    Rect(0, 0, 200, 200, True),\n",
    "    Rect(400, 400, 200, 200, True),\n",
    "    Rect(400, 0, 200, 200, False),\n",
    "    Rect(0, 400, 200, 200, False),\n",
    "    #\n",
    "    Rect(200, 200, 200, 200, False),\n",
    "    #\n",
    "    Rect(0, 200, 100, 100, True),\n",
    "    Rect(0, 300, 100, 100, False),\n",
    "    Rect(100, 200, 100, 100, False),\n",
    "    Rect(100, 300, 100, 100, True),\n",
    "    #\n",
    "    Rect(200, 0, 100, 100, False),\n",
    "    Rect(300, 0, 100, 100, True),\n",
    "    Rect(200, 100, 100, 100, True),\n",
    "    Rect(300, 100, 100, 100, False),\n",
    "    #\n",
    "    Rect(400, 200, 100, 100, True),\n",
    "    Rect(400, 300, 100, 100, False),\n",
    "    Rect(500, 200, 100, 100, False),\n",
    "    Rect(500, 300, 100, 100, True),\n",
    "    #\n",
    "    Rect(200, 400, 100, 100, False),\n",
    "    Rect(300, 400, 100, 100, True),\n",
    "    Rect(200, 500, 100, 100, True),\n",
    "    Rect(300, 500, 100, 100, False),\n",
    "]\n",
    "\n",
    "draw(rects, 6, 600, 600)\n",
    "\n",
    "\n",
    "\n"
   ]
  },
  {
   "cell_type": "code",
   "execution_count": 11,
   "metadata": {
    "ExecuteTime": {
     "end_time": "2021-07-15T09:59:12.705347Z",
     "start_time": "2021-07-15T09:59:12.669346Z"
    }
   },
   "outputs": [
    {
     "data": {
      "application/vnd.jupyter.widget-view+json": {
       "model_id": "a044da85aba34c4c872862d73dcde0ce",
       "version_major": 2,
       "version_minor": 0
      },
      "text/plain": [
       "Canvas(height=600, width=600)"
      ]
     },
     "metadata": {},
     "output_type": "display_data"
    }
   ],
   "source": [
    "rects = [\n",
    "    Rect(0, 0, 400, 200, True),\n",
    "    Rect(400, 0, 200, 400, True),\n",
    "    Rect(200, 400, 400, 200, True),\n",
    "    Rect(0, 200, 200, 400, True),\n",
    "    Rect(200, 200, 200, 200, False),\n",
    "]\n",
    "\n",
    "draw(rects, 6, 600, 600, 2.5)\n"
   ]
  },
  {
   "cell_type": "code",
   "execution_count": 12,
   "metadata": {
    "ExecuteTime": {
     "end_time": "2021-07-15T09:59:13.719910Z",
     "start_time": "2021-07-15T09:59:13.692913Z"
    }
   },
   "outputs": [
    {
     "data": {
      "application/vnd.jupyter.widget-view+json": {
       "model_id": "729965c4897c4f66b52ef03cccaaddeb",
       "version_major": 2,
       "version_minor": 0
      },
      "text/plain": [
       "Canvas(height=1000, width=1000)"
      ]
     },
     "metadata": {},
     "output_type": "display_data"
    }
   ],
   "source": [
    "rects = [\n",
    "    Rect(0, 0, 800, 200, True),\n",
    "    Rect(800, 0, 200, 800, True),\n",
    "    Rect(200, 800, 800, 200, True),\n",
    "    Rect(0, 200, 200, 800, True),\n",
    "\n",
    "    Rect(200, 200, 400, 200, False),\n",
    "    Rect(600, 200, 200, 400, False),\n",
    "    Rect(400, 600, 400, 200, False),\n",
    "    Rect(200, 400, 200, 400, False),\n",
    "\n",
    "    Rect(400, 400, 200, 200, True),\n",
    "]\n",
    "\n",
    "draw(rects, 20, 1000, 1000, 1.5)"
   ]
  },
  {
   "cell_type": "code",
   "execution_count": 13,
   "metadata": {
    "ExecuteTime": {
     "end_time": "2021-07-15T09:59:14.568378Z",
     "start_time": "2021-07-15T09:59:14.540376Z"
    }
   },
   "outputs": [
    {
     "data": {
      "application/vnd.jupyter.widget-view+json": {
       "model_id": "95b3bca9902b4694b3685666b3536e84",
       "version_major": 2,
       "version_minor": 0
      },
      "text/plain": [
       "Canvas(height=460, width=600)"
      ]
     },
     "metadata": {},
     "output_type": "display_data"
    }
   ],
   "source": [
    "rects = [\n",
    "    Rect(0, 0, 150, 230, False),\n",
    "    Rect(150, 0, 150, 230),\n",
    "    Rect(300, 0, 300, 115, False),\n",
    "    Rect(300, 115, 300, 115),\n",
    "    Rect(0, 230, 300, 115),\n",
    "    Rect(0, 345, 300, 115, False),\n",
    "    Rect(300, 230, 150, 230),\n",
    "    Rect(450, 230, 150, 230, False),\n",
    "]\n",
    "\n",
    "draw(rects, 10, 600, 460, 2.0)"
   ]
  },
  {
   "cell_type": "code",
   "execution_count": 14,
   "metadata": {
    "ExecuteTime": {
     "end_time": "2021-07-15T09:59:15.927931Z",
     "start_time": "2021-07-15T09:59:15.891932Z"
    }
   },
   "outputs": [
    {
     "data": {
      "application/vnd.jupyter.widget-view+json": {
       "model_id": "576c341db7c04cceab82bc1adfd5a075",
       "version_major": 2,
       "version_minor": 0
      },
      "text/plain": [
       "Canvas(height=600, width=600)"
      ]
     },
     "metadata": {},
     "output_type": "display_data"
    }
   ],
   "source": [
    "a = Point(0, 0)\n",
    "b = Point(300, 0)\n",
    "c = Point(600, 0)\n",
    "d = Point(600, 300)\n",
    "e = Point(600, 600)\n",
    "f = Point(300, 600)\n",
    "g = Point(0, 600)\n",
    "h = Point(0, 300)\n",
    "i = Point(300, 300)\n",
    "\n",
    "shapes = [Poly([a, b, h]), Poly([b, c, d]), Poly([d, e, f]), Poly([f, g, h]), Poly([b, d, f, h])]\n",
    "\n",
    "draw(shapes, 5, 600, 600, 2.0)"
   ]
  },
  {
   "cell_type": "code",
   "execution_count": 15,
   "metadata": {
    "ExecuteTime": {
     "end_time": "2021-07-15T09:59:17.278396Z",
     "start_time": "2021-07-15T09:59:17.250425Z"
    }
   },
   "outputs": [
    {
     "data": {
      "application/vnd.jupyter.widget-view+json": {
       "model_id": "91a1b771af5b4c1ca0c2027422f6cdf2",
       "version_major": 2,
       "version_minor": 0
      },
      "text/plain": [
       "Canvas(height=600, width=600)"
      ]
     },
     "metadata": {},
     "output_type": "display_data"
    }
   ],
   "source": [
    "shapes = [Poly([a, b, h]), Poly([b, c, d]), Poly([d, e, f]), Poly([f, g, h]), Poly([b, d, i]),\n",
    "         Poly([d, f, i]), Poly([f, h, i]), Poly([h, b, i])\n",
    "         ]\n",
    "\n",
    "draw(shapes, 8, 600, 600, 0.5)"
   ]
  },
  {
   "cell_type": "code",
   "execution_count": 58,
   "metadata": {
    "ExecuteTime": {
     "end_time": "2021-07-15T10:18:01.312970Z",
     "start_time": "2021-07-15T10:18:01.244661Z"
    }
   },
   "outputs": [
    {
     "data": {
      "application/vnd.jupyter.widget-view+json": {
       "model_id": "8810f8c594324d02bf80a0b386a44bdb",
       "version_major": 2,
       "version_minor": 0
      },
      "text/plain": [
       "Canvas(height=600, width=600)"
      ]
     },
     "metadata": {},
     "output_type": "display_data"
    }
   ],
   "source": [
    "def point_on_circle(angle, radius):\n",
    "    return(\n",
    "        radius + int(radius * math.sin(math.radians(angle))),\n",
    "        radius + int(radius * math.cos(math.radians(angle)))\n",
    "    )\n",
    "\n",
    "sides = 10\n",
    "\n",
    "points = [Point(*point_on_circle(angle, 300)) for angle in range(0, 360, 360 // sides)]\n",
    "\n",
    "draw([Poly(points)], 5, 600, 600, 0.5)"
   ]
  },
  {
   "cell_type": "code",
   "execution_count": null,
   "metadata": {},
   "outputs": [],
   "source": []
  },
  {
   "cell_type": "code",
   "execution_count": null,
   "metadata": {},
   "outputs": [],
   "source": []
  }
 ],
 "metadata": {
  "interpreter": {
   "hash": "5814c8d8decb810d26a1767fde7e8bb1b8b546b1b5ffdf520d1146c82c67d13e"
  },
  "kernelspec": {
   "display_name": "Python 3.9.0 64-bit ('venv': venv)",
   "name": "python3"
  },
  "language_info": {
   "codemirror_mode": {
    "name": "ipython",
    "version": 3
   },
   "file_extension": ".py",
   "mimetype": "text/x-python",
   "name": "python",
   "nbconvert_exporter": "python",
   "pygments_lexer": "ipython3",
   "version": "3.9.0"
  }
 },
 "nbformat": 4,
 "nbformat_minor": 4
}