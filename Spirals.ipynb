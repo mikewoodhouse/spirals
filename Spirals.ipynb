{
 "cells": [
  {
   "cell_type": "code",
   "execution_count": null,
   "metadata": {},
   "outputs": [],
   "source": [
    "from ipycanvas import Canvas, hold_canvas\n",
    "from collections import deque\n",
    "import math"
   ]
  },
  {
   "cell_type": "code",
   "execution_count": null,
   "metadata": {},
   "outputs": [],
   "source": [
    "class Point:\n",
    "    def __init__(self, x, y):\n",
    "        self.x, self.y = x, y\n",
    "    @property\n",
    "    def xy(self):\n",
    "        return self.x, self.y\n",
    "    def distance_to(self, other):\n",
    "        return math.sqrt((self.x - other.x) * (self.x - other.x) + (self.y - other.y) * (self.y - other.y))\n",
    "    def towards(self, other, step):\n",
    "        total_distance = self.distance_to(other)\n",
    "        ratio = step / total_distance\n",
    "        new_x = self.x + ratio * (other.x - self.x)\n",
    "        new_y = self.y + ratio * (other.y - self.y)\n",
    "        return Point(new_x, new_y)\n",
    "    def __str__(self):\n",
    "        return f'({round(self.x, 3)}, {round(self.y, 3)})'\n",
    "    def __repr__(self):\n",
    "        return f'{self}'"
   ]
  },
  {
   "cell_type": "code",
   "execution_count": null,
   "metadata": {},
   "outputs": [],
   "source": [
    "class Rect:\n",
    "    def __init__(self, x, y, width, height, direction=True):\n",
    "        x2 = x + width - 1\n",
    "        y2 = y + height - 1\n",
    "        if direction:\n",
    "            self.points = deque([Point(x, y), Point(x, y2), Point(x2, y2), Point(x2, y)])\n",
    "        else:\n",
    "            self.points = deque([Point(x, y), Point(x2, y), Point(x2, y2), Point(x, y2)])"
   ]
  },
  {
   "cell_type": "code",
   "execution_count": null,
   "metadata": {},
   "outputs": [],
   "source": [
    "class Poly:\n",
    "    def __init__(self, points, direction=True):\n",
    "        self.points = deque(points)"
   ]
  },
  {
   "cell_type": "code",
   "execution_count": null,
   "metadata": {},
   "outputs": [],
   "source": [
    "def draw(shapes, start_step, width, height, line_width=1.0):\n",
    "    canvas = Canvas(width=width, height=height)\n",
    "    canvas.line_width = line_width\n",
    "    with hold_canvas(canvas):\n",
    "        for shape in shapes:\n",
    "            points = shape.points\n",
    "            # draw rectangle\n",
    "            canvas.begin_path()\n",
    "            canvas.move_to(*points[0].xy)\n",
    "            for i in range(len(points)):\n",
    "                points.rotate()\n",
    "                canvas.line_to(*points[0].xy)\n",
    "            canvas.stroke()\n",
    "            # start spiral\n",
    "            canvas.begin_path()\n",
    "            canvas.move_to(*points[0].xy)\n",
    "            keep_drawing = True\n",
    "            step = start_step\n",
    "            while step > 2:\n",
    "                new_pt = points[1].towards(points[2], step)\n",
    "                if points[0].distance_to(new_pt) < step:\n",
    "                    step -= 2\n",
    "                canvas.line_to(*new_pt.xy)\n",
    "                points[1] = new_pt\n",
    "                points.rotate(-1)\n",
    "            canvas.stroke()\n",
    "    return canvas"
   ]
  },
  {
   "cell_type": "code",
   "execution_count": null,
   "metadata": {},
   "outputs": [],
   "source": [
    "rects = [\n",
    "    Rect(0, 0, 300, 300, True),\n",
    "]\n",
    "\n",
    "draw(rects, 20, 300, 300)"
   ]
  },
  {
   "cell_type": "code",
   "execution_count": null,
   "metadata": {},
   "outputs": [],
   "source": [
    "rects = [\n",
    "    Rect(0, 0, 300, 300, True),\n",
    "    Rect(300, 300, 300, 300, True),\n",
    "    Rect(300, 0, 300, 300, False),\n",
    "    Rect(0, 300, 300, 300, False),\n",
    "]\n",
    "\n",
    "draw(rects, 15, 600, 600)\n"
   ]
  },
  {
   "cell_type": "code",
   "execution_count": null,
   "metadata": {},
   "outputs": [],
   "source": [
    "rects = [\n",
    "    Rect(x * 100, y * 100, 100, 100)\n",
    "    for x in range(6)\n",
    "    for y in range(6)    \n",
    "]\n",
    "\n",
    "draw(rects, 8, 600, 600, 2.0)"
   ]
  },
  {
   "cell_type": "code",
   "execution_count": null,
   "metadata": {},
   "outputs": [],
   "source": [
    "side = 40\n",
    "squares = 16\n",
    "\n",
    "rects = [\n",
    "    Rect(x * side, y * side, side, side, x % 2 - y % 2)\n",
    "    for x in range(squares)\n",
    "    for y in range(squares)    \n",
    "]\n",
    "\n",
    "draw(rects, 3, side * squares, side * squares)"
   ]
  },
  {
   "cell_type": "code",
   "execution_count": null,
   "metadata": {},
   "outputs": [],
   "source": [
    "rects = [\n",
    "    Rect(0, 0, 200, 200, True),\n",
    "    Rect(400, 400, 200, 200, True),\n",
    "    Rect(400, 0, 200, 200, False),\n",
    "    Rect(0, 400, 200, 200, False),\n",
    "    #\n",
    "    Rect(200, 200, 200, 200, False),\n",
    "    #\n",
    "    Rect(0, 200, 100, 100, True),\n",
    "    Rect(0, 300, 100, 100, False),\n",
    "    Rect(100, 200, 100, 100, False),\n",
    "    Rect(100, 300, 100, 100, True),\n",
    "    #\n",
    "    Rect(200, 0, 100, 100, False),\n",
    "    Rect(300, 0, 100, 100, True),\n",
    "    Rect(200, 100, 100, 100, True),\n",
    "    Rect(300, 100, 100, 100, False),\n",
    "    #\n",
    "    Rect(400, 200, 100, 100, True),\n",
    "    Rect(400, 300, 100, 100, False),\n",
    "    Rect(500, 200, 100, 100, False),\n",
    "    Rect(500, 300, 100, 100, True),\n",
    "    #\n",
    "    Rect(200, 400, 100, 100, False),\n",
    "    Rect(300, 400, 100, 100, True),\n",
    "    Rect(200, 500, 100, 100, True),\n",
    "    Rect(300, 500, 100, 100, False),\n",
    "]\n",
    "\n",
    "draw(rects, 6, 600, 600)\n",
    "\n",
    "\n",
    "\n"
   ]
  },
  {
   "cell_type": "code",
   "execution_count": null,
   "metadata": {},
   "outputs": [],
   "source": [
    "rects = [\n",
    "    Rect(0, 0, 400, 200, True),\n",
    "    Rect(400, 0, 200, 400, True),\n",
    "    Rect(200, 400, 400, 200, True),\n",
    "    Rect(0, 200, 200, 400, True),\n",
    "    Rect(200, 200, 200, 200, False),\n",
    "]\n",
    "\n",
    "draw(rects, 6, 600, 600, 2.5)\n"
   ]
  },
  {
   "cell_type": "code",
   "execution_count": null,
   "metadata": {},
   "outputs": [],
   "source": [
    "rects = [\n",
    "    Rect(0, 0, 800, 200, True),\n",
    "    Rect(800, 0, 200, 800, True),\n",
    "    Rect(200, 800, 800, 200, True),\n",
    "    Rect(0, 200, 200, 800, True),\n",
    "\n",
    "    Rect(200, 200, 400, 200, False),\n",
    "    Rect(600, 200, 200, 400, False),\n",
    "    Rect(400, 600, 400, 200, False),\n",
    "    Rect(200, 400, 200, 400, False),\n",
    "\n",
    "    Rect(400, 400, 200, 200, True),\n",
    "]\n",
    "\n",
    "draw(rects, 20, 1000, 1000, 1.5)"
   ]
  },
  {
   "cell_type": "code",
   "execution_count": null,
   "metadata": {},
   "outputs": [],
   "source": [
    "rects = [\n",
    "    Rect(0, 0, 150, 230, False),\n",
    "    Rect(150, 0, 150, 230),\n",
    "    Rect(300, 0, 300, 115, False),\n",
    "    Rect(300, 115, 300, 115),\n",
    "    Rect(0, 230, 300, 115),\n",
    "    Rect(0, 345, 300, 115, False),\n",
    "    Rect(300, 230, 150, 230),\n",
    "    Rect(450, 230, 150, 230, False),\n",
    "]\n",
    "\n",
    "draw(rects, 10, 600, 460, 2.0)"
   ]
  },
  {
   "cell_type": "code",
   "execution_count": null,
   "metadata": {},
   "outputs": [],
   "source": [
    "a = Point(0, 0)\n",
    "b = Point(300, 0)\n",
    "c = Point(600, 0)\n",
    "d = Point(600, 300)\n",
    "e = Point(600, 600)\n",
    "f = Point(300, 600)\n",
    "g = Point(0, 600)\n",
    "h = Point(0, 300)\n",
    "i = Point(300, 300)\n",
    "\n",
    "shapes = [Poly([a, b, h]), Poly([b, c, d]), Poly([d, e, f]), Poly([f, g, h]), Poly([b, d, f, h])]\n",
    "\n",
    "draw(shapes, 5, 600, 600, 2.0)"
   ]
  },
  {
   "cell_type": "code",
   "execution_count": null,
   "metadata": {},
   "outputs": [],
   "source": [
    "shapes = [Poly([a, b, h]), Poly([b, c, d]), Poly([d, e, f]), Poly([f, g, h]), Poly([b, d, i]),\n",
    "         Poly([d, f, i]), Poly([f, h, i]), Poly([h, b, i])\n",
    "         ]\n",
    "\n",
    "draw(shapes, 8, 600, 600, 0.5)"
   ]
  },
  {
   "cell_type": "code",
   "execution_count": null,
   "metadata": {},
   "outputs": [],
   "source": []
  },
  {
   "cell_type": "code",
   "execution_count": null,
   "metadata": {},
   "outputs": [],
   "source": []
  },
  {
   "cell_type": "code",
   "execution_count": null,
   "metadata": {},
   "outputs": [],
   "source": []
  }
 ],
 "metadata": {
  "kernelspec": {
   "display_name": "Python 3",
   "language": "python",
   "name": "python3"
  },
  "language_info": {
   "codemirror_mode": {
    "name": "ipython",
    "version": 3
   },
   "file_extension": ".py",
   "mimetype": "text/x-python",
   "name": "python",
   "nbconvert_exporter": "python",
   "pygments_lexer": "ipython3",
   "version": "3.8.3"
  }
 },
 "nbformat": 4,
 "nbformat_minor": 4
}
